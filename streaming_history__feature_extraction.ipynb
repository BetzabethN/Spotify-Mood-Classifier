{
 "metadata": {
  "language_info": {
   "codemirror_mode": {
    "name": "ipython",
    "version": 3
   },
   "file_extension": ".py",
   "mimetype": "text/x-python",
   "name": "python",
   "nbconvert_exporter": "python",
   "pygments_lexer": "ipython3",
   "version": "3.8.3"
  },
  "orig_nbformat": 2,
  "kernelspec": {
   "name": "python383jvsc74a57bd0926f6aaf729b06294a15c213fb334ead2f10a93a70c5e3ac4325349e18a84f84",
   "display_name": "Python 3.8.3 64-bit ('base': conda)"
  }
 },
 "nbformat": 4,
 "nbformat_minor": 2,
 "cells": [
  {
   "cell_type": "code",
   "execution_count": 1,
   "metadata": {},
   "outputs": [],
   "source": [
    "# import libraries\n",
    "import ast\n",
    "from typing import List\n",
    "from os import listdir\n",
    "import spotipy.util as util\n",
    "import requests\n",
    "import spotipy\n",
    "import pandas as pd\n",
    "import json"
   ]
  },
  {
   "cell_type": "code",
   "execution_count": 2,
   "metadata": {},
   "outputs": [],
   "source": [
    "# authorize credientials\n",
    "username = ''\n",
    "client_id = ''\n",
    "client_secret = ''\n",
    "redirect_uri = 'http://localhost:7777/callback'\n",
    "scope = 'user-read-recently-played'\n",
    "\n",
    "# create token\n",
    "token = token = util.prompt_for_user_token(username=username, \n",
    "                                   scope=scope, \n",
    "                                   client_id=client_id,   \n",
    "                                   client_secret=client_secret,     \n",
    "                                   redirect_uri=redirect_uri)"
   ]
  },
  {
   "cell_type": "code",
   "execution_count": 4,
   "metadata": {},
   "outputs": [],
   "source": [
    "# function to get strack id to later use to get more track features thorugh API\n",
    "def get_id(track_info: str, token: str, artist: str = None) -> str:\n",
    "    # header for API\n",
    "    headers = {'Accept': 'application/json', 'Content-Type': 'application/json',\n",
    "    'Authorization': f'Bearer ' + token,}\n",
    "\n",
    "    # get track names and params\n",
    "    track_name = track_info.split(\"___\")[0]\n",
    "    params = [('q', track_name), ('type', 'track'),]\n",
    "    artist = track_info.split(\"___\")[-1]\n",
    "    if artist:\n",
    "        params.append(('artist', artist))\n",
    "    \n",
    "    try:\n",
    "        response = requests.get('https://api.spotify.com/v1/search', \n",
    "                    headers = headers, params = params, timeout = 5)\n",
    "        json = response.json()\n",
    "        results = json['tracks']['items']\n",
    "        first_result = json['tracks']['items'][0]\n",
    "        # Check if searched artist is in response as the first one isn't\n",
    "        # necessarily the right one\n",
    "        if artist:\n",
    "            for result in results:\n",
    "                if artist.strip() == result['artists'][0]['name'].strip():\n",
    "                    track_id = result['id']\n",
    "                    return track_id\n",
    "        # If specific artist is not found from results, use the first one\n",
    "        track_id = first_result['id']\n",
    "        return track_id\n",
    "    except:\n",
    "        return None"
   ]
  },
  {
   "cell_type": "code",
   "execution_count": 5,
   "metadata": {},
   "outputs": [],
   "source": [
    "# function to get features of a track\n",
    "def get_features(track_id: str, token: str) -> dict:\n",
    "    sp = spotipy.Spotify(auth=token)\n",
    "    try:\n",
    "        features = sp.audio_features([track_id])\n",
    "        return features[0]\n",
    "    except:\n",
    "        return None"
   ]
  },
  {
   "cell_type": "code",
   "execution_count": 6,
   "metadata": {},
   "outputs": [],
   "source": [
    "# get features of tracks in streaming history provided in sample data\n",
    "with open('StreamingHistory.json', encoding='utf8') as f:\n",
    "    streaming_data = json.load(f)"
   ]
  },
  {
   "source": [
    "# get unique tracks in streaming history\n",
    "unique_tracks = list(set([streaming['trackName'] for streaming in streaming_data]))\n"
   ],
   "cell_type": "code",
   "metadata": {},
   "execution_count": 13,
   "outputs": []
  },
  {
   "cell_type": "code",
   "execution_count": 15,
   "metadata": {},
   "outputs": [],
   "source": [
    " # get features of tracks\n",
    " \n",
    " all_features = {}\n",
    "\n",
    " for track in unique_tracks:\n",
    "     track_id = get_id(track, token)\n",
    "     features = get_features(track_id, token)\n",
    "     if features:\n",
    "         all_features[track] = features"
   ]
  },
  {
   "cell_type": "code",
   "execution_count": 16,
   "metadata": {},
   "outputs": [],
   "source": [
    " # combine tracks with features into new list\n",
    " with_features = []\n",
    " for track_name, features in all_features.items():\n",
    "     with_features.append({'name': track_name, **features})"
   ]
  },
  {
   "cell_type": "code",
   "execution_count": 17,
   "metadata": {},
   "outputs": [],
   "source": [
    "# make result into csv file\n",
    "df = pd.DataFrame(with_features)\n",
    "df.to_csv('streaming_history.csv')"
   ]
  }
 ]
}